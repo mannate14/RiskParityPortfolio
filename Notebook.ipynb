{
 "cells": [
  {
   "cell_type": "markdown",
   "id": "0dd4948c",
   "metadata": {},
   "source": [
    "### IMPORTING LIBRARIES"
   ]
  },
  {
   "cell_type": "code",
   "execution_count": 24,
   "id": "ae1460db-fe98-42da-a243-c51abf326db8",
   "metadata": {},
   "outputs": [],
   "source": [
    "import pandas as pd\n",
    "import numpy as np\n",
    "import yfinance as yf\n",
    "from scipy.optimize import minimize\n",
    "import warnings\n",
    "from tqdm import tqdm\n",
    "\n",
    "warnings.filterwarnings('ignore')"
   ]
  },
  {
   "cell_type": "markdown",
   "id": "d7f1d895-260e-4c28-ad97-a5ac2e710a19",
   "metadata": {},
   "source": [
    "### DOWNLOADING DATA"
   ]
  },
  {
   "cell_type": "code",
   "execution_count": 25,
   "id": "bb492e7b-e075-4b40-b721-25ad83310010",
   "metadata": {},
   "outputs": [
    {
     "name": "stderr",
     "output_type": "stream",
     "text": [
      "  0%|          | 0/6 [00:00<?, ?it/s]"
     ]
    },
    {
     "name": "stderr",
     "output_type": "stream",
     "text": [
      "[*********************100%***********************]  1 of 1 completed\n",
      "[*********************100%***********************]  1 of 1 completed\n",
      "[*********************100%***********************]  1 of 1 completed\n",
      "[*********************100%***********************]  1 of 1 completed\n",
      "[*********************100%***********************]  1 of 1 completed\n",
      "[*********************100%***********************]  1 of 1 completed\n",
      "100%|██████████| 6/6 [00:12<00:00,  2.15s/it]\n"
     ]
    }
   ],
   "source": [
    "def returns(ticker_list):\n",
    "    df_1 = pd.DataFrame()\n",
    "    for ticker in tqdm(ticker_list):\n",
    "        df = yf.download(ticker,start = '2024-01-01',auto_adjust=False)\n",
    "        df['daily_ret'] = df['Adj Close'].pct_change()\n",
    "        df_1[ticker] = df['daily_ret']\n",
    "        df_1.dropna(inplace = True)\n",
    "    return df_1\n",
    "ticker_list = ['MSFT','AAPL','TSLA','AMZN','GOOGL','META']\n",
    "n = len(ticker_list)\n",
    "df = returns(ticker_list)"
   ]
  },
  {
   "cell_type": "code",
   "execution_count": 26,
   "id": "57718545",
   "metadata": {},
   "outputs": [
    {
     "data": {
      "text/html": [
       "<div>\n",
       "<style scoped>\n",
       "    .dataframe tbody tr th:only-of-type {\n",
       "        vertical-align: middle;\n",
       "    }\n",
       "\n",
       "    .dataframe tbody tr th {\n",
       "        vertical-align: top;\n",
       "    }\n",
       "\n",
       "    .dataframe thead th {\n",
       "        text-align: right;\n",
       "    }\n",
       "</style>\n",
       "<table border=\"1\" class=\"dataframe\">\n",
       "  <thead>\n",
       "    <tr style=\"text-align: right;\">\n",
       "      <th></th>\n",
       "      <th>MSFT</th>\n",
       "      <th>AAPL</th>\n",
       "      <th>TSLA</th>\n",
       "      <th>AMZN</th>\n",
       "      <th>GOOGL</th>\n",
       "      <th>META</th>\n",
       "    </tr>\n",
       "    <tr>\n",
       "      <th>Date</th>\n",
       "      <th></th>\n",
       "      <th></th>\n",
       "      <th></th>\n",
       "      <th></th>\n",
       "      <th></th>\n",
       "      <th></th>\n",
       "    </tr>\n",
       "  </thead>\n",
       "  <tbody>\n",
       "    <tr>\n",
       "      <th>2024-01-03</th>\n",
       "      <td>-0.000728</td>\n",
       "      <td>-0.007488</td>\n",
       "      <td>-0.040134</td>\n",
       "      <td>-0.009738</td>\n",
       "      <td>0.005428</td>\n",
       "      <td>-0.005256</td>\n",
       "    </tr>\n",
       "    <tr>\n",
       "      <th>2024-01-04</th>\n",
       "      <td>-0.007178</td>\n",
       "      <td>-0.012700</td>\n",
       "      <td>-0.002181</td>\n",
       "      <td>-0.026268</td>\n",
       "      <td>-0.018212</td>\n",
       "      <td>0.007693</td>\n",
       "    </tr>\n",
       "    <tr>\n",
       "      <th>2024-01-05</th>\n",
       "      <td>-0.000516</td>\n",
       "      <td>-0.004013</td>\n",
       "      <td>-0.001849</td>\n",
       "      <td>0.004634</td>\n",
       "      <td>-0.004839</td>\n",
       "      <td>0.013915</td>\n",
       "    </tr>\n",
       "    <tr>\n",
       "      <th>2024-01-08</th>\n",
       "      <td>0.018871</td>\n",
       "      <td>0.024175</td>\n",
       "      <td>0.012464</td>\n",
       "      <td>0.026577</td>\n",
       "      <td>0.022913</td>\n",
       "      <td>0.019065</td>\n",
       "    </tr>\n",
       "    <tr>\n",
       "      <th>2024-01-09</th>\n",
       "      <td>0.002936</td>\n",
       "      <td>-0.002263</td>\n",
       "      <td>-0.022832</td>\n",
       "      <td>0.015225</td>\n",
       "      <td>0.015197</td>\n",
       "      <td>-0.003429</td>\n",
       "    </tr>\n",
       "    <tr>\n",
       "      <th>...</th>\n",
       "      <td>...</td>\n",
       "      <td>...</td>\n",
       "      <td>...</td>\n",
       "      <td>...</td>\n",
       "      <td>...</td>\n",
       "      <td>...</td>\n",
       "    </tr>\n",
       "    <tr>\n",
       "      <th>2025-07-02</th>\n",
       "      <td>-0.001951</td>\n",
       "      <td>0.022231</td>\n",
       "      <td>0.049682</td>\n",
       "      <td>-0.002449</td>\n",
       "      <td>0.015924</td>\n",
       "      <td>-0.007856</td>\n",
       "    </tr>\n",
       "    <tr>\n",
       "      <th>2025-07-03</th>\n",
       "      <td>0.015781</td>\n",
       "      <td>0.005225</td>\n",
       "      <td>-0.000950</td>\n",
       "      <td>0.015869</td>\n",
       "      <td>0.004982</td>\n",
       "      <td>0.007624</td>\n",
       "    </tr>\n",
       "    <tr>\n",
       "      <th>2025-07-07</th>\n",
       "      <td>-0.002245</td>\n",
       "      <td>-0.016858</td>\n",
       "      <td>-0.067893</td>\n",
       "      <td>0.000269</td>\n",
       "      <td>-0.015262</td>\n",
       "      <td>-0.000918</td>\n",
       "    </tr>\n",
       "    <tr>\n",
       "      <th>2025-07-08</th>\n",
       "      <td>-0.002210</td>\n",
       "      <td>0.000286</td>\n",
       "      <td>0.013166</td>\n",
       "      <td>-0.018392</td>\n",
       "      <td>-0.013745</td>\n",
       "      <td>0.003230</td>\n",
       "    </tr>\n",
       "    <tr>\n",
       "      <th>2025-07-09</th>\n",
       "      <td>0.013874</td>\n",
       "      <td>0.005381</td>\n",
       "      <td>-0.006481</td>\n",
       "      <td>0.014497</td>\n",
       "      <td>0.012962</td>\n",
       "      <td>0.016804</td>\n",
       "    </tr>\n",
       "  </tbody>\n",
       "</table>\n",
       "<p>379 rows × 6 columns</p>\n",
       "</div>"
      ],
      "text/plain": [
       "                MSFT      AAPL      TSLA      AMZN     GOOGL      META\n",
       "Date                                                                  \n",
       "2024-01-03 -0.000728 -0.007488 -0.040134 -0.009738  0.005428 -0.005256\n",
       "2024-01-04 -0.007178 -0.012700 -0.002181 -0.026268 -0.018212  0.007693\n",
       "2024-01-05 -0.000516 -0.004013 -0.001849  0.004634 -0.004839  0.013915\n",
       "2024-01-08  0.018871  0.024175  0.012464  0.026577  0.022913  0.019065\n",
       "2024-01-09  0.002936 -0.002263 -0.022832  0.015225  0.015197 -0.003429\n",
       "...              ...       ...       ...       ...       ...       ...\n",
       "2025-07-02 -0.001951  0.022231  0.049682 -0.002449  0.015924 -0.007856\n",
       "2025-07-03  0.015781  0.005225 -0.000950  0.015869  0.004982  0.007624\n",
       "2025-07-07 -0.002245 -0.016858 -0.067893  0.000269 -0.015262 -0.000918\n",
       "2025-07-08 -0.002210  0.000286  0.013166 -0.018392 -0.013745  0.003230\n",
       "2025-07-09  0.013874  0.005381 -0.006481  0.014497  0.012962  0.016804\n",
       "\n",
       "[379 rows x 6 columns]"
      ]
     },
     "execution_count": 26,
     "metadata": {},
     "output_type": "execute_result"
    }
   ],
   "source": [
    "df"
   ]
  },
  {
   "cell_type": "markdown",
   "id": "669af25e-f6b0-42b9-b90d-3b38e40429a1",
   "metadata": {},
   "source": [
    "### COVARIANCE MATRIX"
   ]
  },
  {
   "cell_type": "code",
   "execution_count": 27,
   "id": "5a44b792-4c67-4ca7-8450-6f00bd7410d3",
   "metadata": {},
   "outputs": [
    {
     "data": {
      "text/plain": [
       "array([[0.00021811, 0.00015047, 0.00026923, 0.00020844, 0.00016564,\n",
       "        0.00022481],\n",
       "       [0.00015047, 0.00034929, 0.00037387, 0.00019531, 0.00016611,\n",
       "        0.00019491],\n",
       "       [0.00026923, 0.00037387, 0.00185025, 0.00039523, 0.00034118,\n",
       "        0.00037165],\n",
       "       [0.00020844, 0.00019531, 0.00039523, 0.00039635, 0.000239  ,\n",
       "        0.00033681],\n",
       "       [0.00016564, 0.00016611, 0.00034118, 0.000239  , 0.00037476,\n",
       "        0.00023273],\n",
       "       [0.00022481, 0.00019491, 0.00037165, 0.00033681, 0.00023273,\n",
       "        0.00059143]])"
      ]
     },
     "execution_count": 27,
     "metadata": {},
     "output_type": "execute_result"
    }
   ],
   "source": [
    "sigma = df.cov()\n",
    "Sigma = sigma.values\n",
    "Sigma"
   ]
  },
  {
   "cell_type": "markdown",
   "id": "e9ec07b4-b089-4280-933a-556c61894788",
   "metadata": {},
   "source": [
    "### SQP "
   ]
  },
  {
   "cell_type": "code",
   "execution_count": 28,
   "id": "9b3c7199-1894-4b2b-a261-abcbc60c81a0",
   "metadata": {},
   "outputs": [
    {
     "name": "stdout",
     "output_type": "stream",
     "text": [
      "Optimal solution: [0.18502944 0.18270173 0.09621165 0.17832873 0.18246099 0.17526746]\n",
      "Objective function value: 9.760928570104167e-06\n"
     ]
    }
   ],
   "source": [
    "def portfolio_volatility(x, Sigma):\n",
    "    return np.sqrt(x.T @ Sigma @ x)\n",
    "\n",
    "def calculate_mcr(x, Sigma):\n",
    "    portfolio_vol = portfolio_volatility(x, Sigma)\n",
    "    mcr = (Sigma @ x) / portfolio_vol\n",
    "    return mcr\n",
    "    \n",
    "def objective(x, Sigma):\n",
    "    sum_squared_diff = 0\n",
    "    MCR = calculate_mcr(x, Sigma) \n",
    "    for i in range(len(x)):\n",
    "        for j in range(len(x)):\n",
    "            diff = x[i] * MCR[i] - x[j] * MCR[j]\n",
    "            sum_squared_diff += diff ** 2\n",
    "    return sum_squared_diff\n",
    "\n",
    "\n",
    "def constraint_eq(x):\n",
    "    return np.sum(x) - 1\n",
    "\n",
    "bounds = [(0, 1) for _ in range(n)]\n",
    "\n",
    "x0 = np.ones(n) / n  \n",
    "\n",
    "constraints = {'type': 'eq', 'fun': constraint_eq}\n",
    "\n",
    "solution = minimize(objective, x0, args=(Sigma,), method='SLSQP', bounds=bounds, constraints=constraints)\n",
    "\n",
    "print('Optimal solution:', solution.x)\n",
    "print('Objective function value:', solution.fun)"
   ]
  },
  {
   "cell_type": "markdown",
   "id": "3e456a16",
   "metadata": {},
   "source": [
    "### ANALYSING PORTFOLIO"
   ]
  },
  {
   "cell_type": "code",
   "execution_count": 29,
   "id": "21cf77a0",
   "metadata": {},
   "outputs": [
    {
     "name": "stdout",
     "output_type": "stream",
     "text": [
      "Expected Annual Return: 29.73%\n",
      "Annual Variance: 0.070000\n",
      "Annual Volatility (Std Dev): 0.26\n"
     ]
    }
   ],
   "source": [
    "w = solution.x\n",
    "\n",
    "# Calculating Annual Return\n",
    "mean_daily_returns = df.mean()\n",
    "expected_daily_return = np.dot(w, mean_daily_returns)\n",
    "expected_annual_return = expected_daily_return*252\n",
    "expected_annual_return_percent = expected_annual_return*100\n",
    "\n",
    "# Calculating Annual Variance\n",
    "cov_matrix_daily = df.cov()\n",
    "portfolio_variance_daily = np.dot(w.T, np.dot(cov_matrix_daily, w))\n",
    "portfolio_volatility_daily = np.sqrt(portfolio_variance_daily)\n",
    "portfolio_variance_annual = portfolio_variance_daily * 252\n",
    "\n",
    "# Calculating Annual Volatility\n",
    "portfolio_volatility_annual = np.sqrt(portfolio_variance_annual)\n",
    "\n",
    "# Print Results\n",
    "print(f\"Expected Annual Return: {expected_annual_return_percent:.2f}%\")\n",
    "print(f\"Annual Variance: {portfolio_variance_annual:.6f}\")\n",
    "print(f\"Annual Volatility (Std Dev): {portfolio_volatility_annual:.2f}\")"
   ]
  }
 ],
 "metadata": {
  "kernelspec": {
   "display_name": "mrc",
   "language": "python",
   "name": "python3"
  },
  "language_info": {
   "codemirror_mode": {
    "name": "ipython",
    "version": 3
   },
   "file_extension": ".py",
   "mimetype": "text/x-python",
   "name": "python",
   "nbconvert_exporter": "python",
   "pygments_lexer": "ipython3",
   "version": "3.10.18"
  }
 },
 "nbformat": 4,
 "nbformat_minor": 5
}
